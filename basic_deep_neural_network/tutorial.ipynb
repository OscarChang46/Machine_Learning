{
 "cells": [
  {
   "cell_type": "markdown",
   "metadata": {},
   "source": [
    "# Introduction to Numpy"
   ]
  },
  {
   "cell_type": "code",
   "execution_count": 1,
   "metadata": {},
   "outputs": [],
   "source": [
    "import numpy as np"
   ]
  },
  {
   "cell_type": "code",
   "execution_count": 15,
   "metadata": {},
   "outputs": [
    {
     "name": "stdout",
     "output_type": "stream",
     "text": [
      "[[0.4359949  0.02592623 0.54966248 0.43532239]\n",
      " [0.4203678  0.33033482 0.20464863 0.61927097]\n",
      " [0.29965467 0.26682728 0.62113383 0.52914209]]\n",
      "[[0.13457995 0.51357812 0.18443987 0.78533515 0.85397529]\n",
      " [0.49423684 0.84656149 0.07964548 0.50524609 0.0652865 ]\n",
      " [0.42812233 0.09653092 0.12715997 0.59674531 0.226012  ]\n",
      " [0.10694568 0.22030621 0.34982629 0.46778748 0.20174323]]\n"
     ]
    }
   ],
   "source": [
    "np.random.seed(2)\n",
    "a = np.random.random((3, 4))\n",
    "print(a)\n",
    "b = np.random.random((4, 5))\n",
    "print(b)"
   ]
  },
  {
   "cell_type": "code",
   "execution_count": 16,
   "metadata": {},
   "outputs": [
    {
     "name": "stdout",
     "output_type": "stream",
     "text": [
      "[[0.3533685  0.39482924 0.30466203 0.88714812 0.58607517]\n",
      " [0.37367972 0.6517246  0.34650263 0.90884031 0.55173689]\n",
      " [0.4947141  0.55631368 0.34061103 0.98832754 0.52045244]]\n"
     ]
    }
   ],
   "source": [
    "print(a @ b)"
   ]
  },
  {
   "cell_type": "markdown",
   "metadata": {},
   "source": [
    "# Introduction to Pytorch "
   ]
  },
  {
   "cell_type": "code",
   "execution_count": 10,
   "metadata": {},
   "outputs": [],
   "source": [
    "import torch \n",
    "import torch.nn as nn\n",
    "import torch.nn.functional as F"
   ]
  },
  {
   "cell_type": "code",
   "execution_count": 11,
   "metadata": {},
   "outputs": [],
   "source": [
    "from tensorboardX import SummaryWriter\n",
    "from torchviz import make_dot"
   ]
  },
  {
   "cell_type": "code",
   "execution_count": null,
   "metadata": {},
   "outputs": [],
   "source": []
  },
  {
   "cell_type": "markdown",
   "metadata": {},
   "source": [
    "# Visualize a Deep Neural Network\n",
    "\n",
    "reference link: https://zhuanlan.zhihu.com/p/232348083"
   ]
  },
  {
   "cell_type": "code",
   "execution_count": 13,
   "metadata": {},
   "outputs": [
    {
     "name": "stdout",
     "output_type": "stream",
     "text": [
      "tensor([[[[0.0000, 0.0000, 0.0000, 0.6836],\n",
      "          [0.0000, 0.3555, 0.4327, 0.1902],\n",
      "          [0.0000, 1.1358, 1.7973, 2.0034],\n",
      "          [0.0000, 0.0000, 0.0000, 0.0000]],\n",
      "\n",
      "         [[0.0000, 2.1114, 0.0000, 0.3716],\n",
      "          [0.5349, 0.0000, 0.0000, 2.2730],\n",
      "          [0.0000, 0.0000, 0.0000, 0.0000],\n",
      "          [0.2119, 0.0000, 0.1004, 0.2430]],\n",
      "\n",
      "         [[0.2611, 0.0000, 0.0574, 0.0000],\n",
      "          [1.0215, 0.0000, 0.0000, 0.1554],\n",
      "          [0.9703, 1.9999, 0.4493, 0.0000],\n",
      "          [0.6199, 1.0380, 0.0000, 0.0000]],\n",
      "\n",
      "         [[0.6803, 0.1997, 0.1155, 0.1446],\n",
      "          [1.6370, 0.3171, 0.0000, 0.0000],\n",
      "          [1.2820, 0.8807, 0.9972, 0.0000],\n",
      "          [0.6175, 0.0000, 0.0000, 0.0000]],\n",
      "\n",
      "         [[0.2061, 0.0000, 0.0000, 0.0000],\n",
      "          [0.4912, 1.5697, 0.5438, 0.4003],\n",
      "          [0.0000, 1.0927, 1.3977, 1.3004],\n",
      "          [0.0000, 0.0000, 0.0000, 0.0000]],\n",
      "\n",
      "         [[0.0000, 0.0000, 0.2109, 0.4041],\n",
      "          [1.3927, 0.0000, 0.1822, 0.0000],\n",
      "          [0.2164, 0.0000, 0.5642, 1.4079],\n",
      "          [1.3098, 0.7517, 0.0000, 0.0000]],\n",
      "\n",
      "         [[2.1039, 0.7080, 1.3642, 0.0000],\n",
      "          [0.4261, 0.0000, 0.0000, 0.8515],\n",
      "          [0.0436, 0.0000, 0.0000, 0.3302],\n",
      "          [0.0000, 0.0074, 0.0953, 0.0000]],\n",
      "\n",
      "         [[0.0000, 2.2297, 0.0000, 0.0000],\n",
      "          [0.0000, 0.1768, 1.2822, 0.0000],\n",
      "          [0.4206, 0.0000, 0.0000, 0.0000],\n",
      "          [0.0000, 0.7981, 0.6890, 0.7333]],\n",
      "\n",
      "         [[0.9306, 0.9388, 0.4993, 0.0000],\n",
      "          [1.1364, 0.5334, 0.4538, 0.0000],\n",
      "          [1.3905, 0.0000, 0.7572, 0.5268],\n",
      "          [0.0000, 0.0000, 0.0000, 0.0000]],\n",
      "\n",
      "         [[0.0000, 0.0000, 0.0000, 0.6117],\n",
      "          [1.1281, 2.1358, 0.0000, 0.0000],\n",
      "          [1.1265, 0.0000, 1.4588, 0.0000],\n",
      "          [0.0000, 0.0000, 0.0000, 0.2856]]]], grad_fn=<ReluBackward0>)\n"
     ]
    }
   ],
   "source": [
    "class modelViz(nn.Module):\n",
    "    def __init__(self):\n",
    "        super(modelViz, self).__init__()\n",
    "        self.conv1 = nn.Conv2d(3, 16, 3, 1, padding=1)\n",
    "        self.bn1 = nn.BatchNorm2d(16)\n",
    "        self.conv2 = nn.Conv2d(16, 64, 3, 1, padding=1)\n",
    "        self.bn2 = nn.BatchNorm2d(64)\n",
    "        self.conv3 = nn.Conv2d(64, 10, 3, 1, padding=1)\n",
    "        self.bn3 = nn.BatchNorm2d(10)\n",
    "\n",
    "    def forward(self, x):\n",
    "        x = self.bn1(self.conv1(x))\n",
    "        x = F.relu(x)\n",
    "        x = self.bn2(self.conv2(x))\n",
    "        x = F.relu(x)\n",
    "        x = self.bn3(self.conv3(x))\n",
    "        x = F.relu(x)\n",
    "        return x\n",
    "\n",
    "modelviz = modelViz()\n",
    "# 创建输入\n",
    "sampledata = torch.rand(1, 3, 4, 4)\n",
    "# 看看输出结果对不对\n",
    "out = modelviz(sampledata)\n",
    "# print(out)  # 测试有输出，网络没有问题\n",
    "\n",
    "# 1. 来用tensorflow进行可视化\n",
    "with SummaryWriter(\"./log\", comment=\"sample_model_visualization\") as sw:\n",
    "    sw.add_graph(modelviz, sampledata)\n",
    "torch.save(modelviz, \"./log/modelviz.pt\")"
   ]
  },
  {
   "cell_type": "code",
   "execution_count": null,
   "metadata": {},
   "outputs": [],
   "source": []
  }
 ],
 "metadata": {
  "kernelspec": {
   "display_name": "tf_m1",
   "language": "python",
   "name": "python3"
  },
  "language_info": {
   "codemirror_mode": {
    "name": "ipython",
    "version": 3
   },
   "file_extension": ".py",
   "mimetype": "text/x-python",
   "name": "python",
   "nbconvert_exporter": "python",
   "pygments_lexer": "ipython3",
   "version": "3.8.12"
  },
  "orig_nbformat": 4
 },
 "nbformat": 4,
 "nbformat_minor": 2
}
