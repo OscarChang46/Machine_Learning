{
 "cells": [
  {
   "attachments": {},
   "cell_type": "markdown",
   "metadata": {},
   "source": [
    "# Bias-Variance Tradeoff\n",
    "+ The bias error is an error from erroneous assumptions in the learning algorithm. High bias can cause an algorithm to miss the relevant relations between features and target outputs (underfitting).\n",
    "\n",
    "+ The variance is an error from sensitivity to small fluctuations in the training set. High variance may result from an algorithm modeling the random noise in the training data (overfitting).\n",
    "\n",
    "![BS_tradeoff](https://upload.wikimedia.org/wikipedia/commons/thumb/9/9f/Bias_and_variance_contributing_to_total_error.svg/2560px-Bias_and_variance_contributing_to_total_error.svg.png)\n",
    "\n",
    "\n",
    "## Four difference scenarios\n",
    "|Bias low, Var low|Bias high, Var low|Bias low, Var high|Bias high, Var high|\n",
    "|:-:|:-:|:-:|:-:|\n",
    "|![blvl](https://upload.wikimedia.org/wikipedia/commons/thumb/2/2a/En_low_bias_low_variance.png/240px-En_low_bias_low_variance.png)|![bgvl](https://upload.wikimedia.org/wikipedia/commons/thumb/a/a2/Truen_bad_prec_ok.png/240px-Truen_bad_prec_ok.png)|![blvh](https://upload.wikimedia.org/wikipedia/commons/thumb/d/dc/Truen_ok_prec_bad.png/240px-Truen_ok_prec_bad.png)|![bhvh](https://upload.wikimedia.org/wikipedia/commons/thumb/f/fd/Truen_bad_prec_bad.png/240px-Truen_bad_prec_bad.png)|\n",
    "## Derivation\n",
    "The derivation of the bias-variance decomposition for squared error\n",
    "\n",
    "$\\begin{align}\n",
    "MSE &= \\mathbb{E}[(y - \\hat{y})^2] \\\\\n",
    " &= \\mathbb{E}[y^2 -2y\\hat{y} + \\hat{y}^2] \\\\\n",
    " & = \\mathbb{E}[y^2] - 2\\mathbb{E}[y\\hat{y}] + \\mathbb{\\hat{y}^2}\n",
    "\\end{align}$"
   ]
  },
  {
   "attachments": {},
   "cell_type": "markdown",
   "metadata": {},
   "source": [
    "# Regularization"
   ]
  },
  {
   "attachments": {},
   "cell_type": "markdown",
   "metadata": {},
   "source": [
    "# MODEL Complexity\n",
    "## Neuron Dropout\n"
   ]
  },
  {
   "attachments": {},
   "cell_type": "markdown",
   "metadata": {},
   "source": [
    "# Batch Normalization"
   ]
  },
  {
   "cell_type": "markdown",
   "metadata": {},
   "source": []
  }
 ],
 "metadata": {
  "kernelspec": {
   "display_name": "tf_m1",
   "language": "python",
   "name": "python3"
  },
  "language_info": {
   "name": "python",
   "version": "3.8.12"
  },
  "orig_nbformat": 4
 },
 "nbformat": 4,
 "nbformat_minor": 2
}
