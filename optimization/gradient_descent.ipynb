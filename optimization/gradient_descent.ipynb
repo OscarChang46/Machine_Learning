{
 "cells": [
  {
   "cell_type": "code",
   "execution_count": 1,
   "metadata": {},
   "outputs": [
    {
     "data": {
      "application/vnd.jupyter.widget-view+json": {
       "model_id": "8db91ae06bc84ddbbbf5ca4114105f69",
       "version_major": 2,
       "version_minor": 0
      },
      "text/plain": [
       "interactive(children=(FloatSlider(value=0.05, description='lr', max=2.0, step=0.0002), IntSlider(value=10, des…"
      ]
     },
     "metadata": {},
     "output_type": "display_data"
    }
   ],
   "source": [
    "import numpy as np\n",
    "import matplotlib.pyplot as plt\n",
    "from ipywidgets import *\n",
    "from mpl_toolkits import mplot3d #用于绘制3D图形\n",
    "\n",
    "\n",
    "#梯度函数的导数\n",
    "def gradJ1(theta):\n",
    "    return 4*theta\n",
    "def gradJ2(theta):\n",
    "    return 2*theta\n",
    " \n",
    "#梯度函数\n",
    "def f(x, y):\n",
    "    return  2*x**2 +y**2\n",
    "\n",
    "def ff(x,y):\n",
    "    return 2*np.power(x,2)+np.power(y,2)\n",
    "\n",
    "def train(lr,epoch,theta1,theta2,up,dirc):\n",
    "    t1 = [theta1]\n",
    "    t2 = [theta2]\n",
    "    for i in range(epoch):\n",
    "        gradient = gradJ1(theta1)\n",
    "        theta1 = theta1 - lr*gradient\n",
    "        t1.append(theta1)\n",
    "        gradient = gradJ2(theta2)\n",
    "        theta2 = theta2 - lr*gradient\n",
    "        t2.append(theta2)\n",
    "        \n",
    "    plt.figure(figsize=(10,10))     #设置画布大小\n",
    "    x = np.linspace(-3,3,30)\n",
    "    y = np.linspace(-3,3,30)\n",
    "    X, Y = np.meshgrid(x, y)\n",
    "    Z = f(X,Y)    \n",
    "    ax = plt.axes(projection='3d')\n",
    "    fig =plt.figure()\n",
    "    #ax1 = plt.subplot(2, 1, 1)\n",
    "    #ax.plot_surface(X, Y, Z, rstride=1, cstride=1, cmap='viridis', edgecolor='none') #曲面图\n",
    "    #ax.plot_wireframe(X, Y, Z, color='c') #线框图\n",
    "    ax.contour3D(X, Y, Z, 50, cmap='binary')#等高线图\n",
    "    #fig =plt.figure()\n",
    "    #print(t1)\n",
    "    #print(ff(t1,t2)+10)\n",
    "    #ax1 = plt.subplot(2, 2, 1)\n",
    "    ax.scatter3D(t1, t2, ff(t1,t2), c='r',marker = 'o')\n",
    "    #ax.plot3D(t1, t2,  ff(t1,t2),'red')\n",
    "    #调整观察角度和方位角。这里将俯仰角设为60度，把方位角调整为35度\n",
    "    ax.view_init(up, dirc)\n",
    "\n",
    "#可以随时调节，查看效果 (最小值，最大值，步长)\n",
    "@interact(lr=(0, 2, 0.0002),epoch=(1,100,1),init_theta1=(-3,3,0.1),init_theta2=(-3,3,0.1),up=(-180,180,1),dirc=(-180,180,1),continuous_update=False)\n",
    "#lr为学习率（步长） epoch为迭代次数   init_theta为初始参数的设置 up调整图片上下视角 dirc调整左右视角\n",
    "def visualize_gradient_descent(lr=0.05,epoch=10,init_theta1=-2,init_theta2=-3,up=45,dirc=100):\n",
    "    train(lr,epoch,init_theta1,init_theta2,up,dirc)\n"
   ]
  },
  {
   "cell_type": "code",
   "execution_count": null,
   "metadata": {},
   "outputs": [],
   "source": []
  }
 ],
 "metadata": {
  "kernelspec": {
   "display_name": "tf_m1",
   "language": "python",
   "name": "python3"
  },
  "language_info": {
   "codemirror_mode": {
    "name": "ipython",
    "version": 3
   },
   "file_extension": ".py",
   "mimetype": "text/x-python",
   "name": "python",
   "nbconvert_exporter": "python",
   "pygments_lexer": "ipython3",
   "version": "3.8.12"
  },
  "orig_nbformat": 4,
  "vscode": {
   "interpreter": {
    "hash": "8c9c99c14df453c5acfecca1ae41737996bc13b0c3a420c7c11ddf365101be87"
   }
  }
 },
 "nbformat": 4,
 "nbformat_minor": 2
}
